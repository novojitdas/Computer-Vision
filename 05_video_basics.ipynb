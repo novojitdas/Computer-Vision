{
 "cells": [
  {
   "cell_type": "markdown",
   "metadata": {},
   "source": [
    "# Video Basics\n",
    "\n",
    "- [Capturing Video Through USB Webcam in Grayscale](#Capturing-Video-Through-USB-Webcam-in-Grayscale)\n",
    "- [Writing a Video Stream to File](#Writing-a-Video-Stream-to-File)\n",
    "- [OpenCV with Video Files](#OpenCV-with-Video-Files)\n",
    "- [Drawing on Video](#Drawing-on-Video)\n",
    "- [Interactive Drawing on Video](#Interactive-Drawing-on-Video)"
   ]
  },
  {
   "cell_type": "markdown",
   "metadata": {},
   "source": [
    "## OpenCV Connecting to a USB Camera or a Laptop Camera "
   ]
  },
  {
   "cell_type": "markdown",
   "metadata": {},
   "source": [
    "OpenCV can automatically connect to your laptop's built in camera or your USB camera if you've installed that specific USB camera drivers. if any problem faced please check out the troubleshooting tips here: https://github.com/opencv/opencv/issues/8471"
   ]
  },
  {
   "cell_type": "markdown",
   "metadata": {},
   "source": [
    "### Notebook Users may need to restart the kernel after closing the camera window!"
   ]
  },
  {
   "cell_type": "markdown",
   "metadata": {},
   "source": [
    "### Capturing Video Through USB Webcam in Grayscale"
   ]
  },
  {
   "cell_type": "code",
   "execution_count": 7,
   "metadata": {},
   "outputs": [],
   "source": [
    "import cv2 \n",
    "\n",
    "# connect computer's default camera\n",
    "cap = cv2.VideoCapture(0)\n",
    "\n",
    "#automaticlly grab width & height of camera\n",
    "# (returns float which we need to convert to integer for later on!)\n",
    "width = int(cap.get(cv2.CAP_PROP_FRAME_WIDTH))\n",
    "height = int(cap.get(cv2.CAP_PROP_FRAME_WIDTH))\n",
    "\n",
    "while True:\n",
    "    \n",
    "    #capture frame by frame\n",
    "    ret, frame = cap.read()\n",
    "    # Our operations on the frame come here\n",
    "    gray = cv2.cvtColor(frame,cv2.COLOR_BGR2GRAY)\n",
    "    # Display the resulting frame\n",
    "    cv2.imshow('frame',gray)\n",
    "    # This command let's us quit with the \"q\" button on a keyboard.\n",
    "    # Simply pressing X on the window won't work!\n",
    "    if cv2.waitKey(1) & 0xFF == ord('q'):\n",
    "        break\n",
    "\n",
    "# When everything done, release the capture and destroy the windows\n",
    "cap.release()\n",
    "cv2.destroyAllWindows()"
   ]
  },
  {
   "cell_type": "markdown",
   "metadata": {},
   "source": [
    "### Writing a Video Stream to File"
   ]
  },
  {
   "cell_type": "markdown",
   "metadata": {},
   "source": [
    "Notebook Users: Make sure its all in the same cell!\n",
    "FourCC is a 4-byte code used to specify the video codec. The list of available codes can be found in fourcc.org. It is platform dependent.\n",
    "\n",
    "MORE INFO ON CODECS: https://docs.opencv.org/3.0-beta/doc/py_tutorials/py_gui/py_video_display/py_video_display.html#saving-a-video\n",
    "\n",
    "In Windows: DIVX<br>\n",
    "In MacOS/Linux: XVID."
   ]
  },
  {
   "cell_type": "code",
   "execution_count": 2,
   "metadata": {},
   "outputs": [],
   "source": [
    "import cv2\n",
    "\n",
    "cap = cv2.VideoCapture(0)\n",
    "\n",
    "width = int(cap.get(cv2.CAP_PROP_FRAME_WIDTH))\n",
    "height = int(cap.get(cv2.CAP_PROP_FRAME_HEIGHT))\n",
    "\n",
    "#syntax\n",
    "#writer = cv2.VideoWriter('folder/saving_path',cv2.VideoWriter_fourcc(*'codex'),fps,(width,height))\n",
    "writer = cv2.VideoWriter('DATA/my_capture.mp4',cv2.VideoWriter_fourcc(*'DIVX'),25,(width,height))\n",
    "\n",
    "## This loop keeps recording until you hit Q or escape the window\n",
    "## You may want to instead use some sort of timer, like from time import sleep and then just record for 5 seconds.\n",
    "\n",
    "while True:\n",
    "    #capture frame by frame\n",
    "    ret, frame = cap.read()\n",
    "    \n",
    "    #write the video\n",
    "    writer.write(frame)\n",
    "    \n",
    "    #display resulting frame\n",
    "    cv2.imshow('frame',frame)\n",
    "    \n",
    "    # This command let's us quit with the \"q\" button on a keyboard.\n",
    "    # Simply pressing X on the window won't work!\n",
    "    if cv2.waitKey(1) & 0xFF == ord('q'):\n",
    "        break\n",
    "\n",
    "\n",
    "cap.release()\n",
    "writer.release()\n",
    "cv2.destroyAllWindows()"
   ]
  },
  {
   "cell_type": "markdown",
   "metadata": {},
   "source": [
    "### OpenCV with Video Files"
   ]
  },
  {
   "cell_type": "code",
   "execution_count": 5,
   "metadata": {},
   "outputs": [],
   "source": [
    "import cv2 \n",
    "import time \n",
    "\n",
    "# Same command function as streaming, its just now we pass in the file path\n",
    "cap = cv2.VideoCapture('DATA/video_capture.mp4')\n",
    "\n",
    "# Frame per second for video \n",
    "fps = 25\n",
    "\n",
    "# Always a good idea to check if the video was acutally there\n",
    "# If you get an error at this step, triple check your file path!!\n",
    "if cap.isOpened() == False:\n",
    "    print(\"ERROR: Check file Path!\")\n",
    "\n",
    "while cap.isOpened():\n",
    "    \n",
    "    #read the video file\n",
    "    ret, frame = cap.read()\n",
    "    # If we got frames, show them.\n",
    "    if ret == True:\n",
    "        \n",
    "         # Display the frame at same frame rate of recording\n",
    "        time.sleep(1/fps)\n",
    "        cv2.imshow('frame',frame)\n",
    "        # press q to quit\n",
    "        if cv2.waitKey(25) & 0xFF == ord('q'):\n",
    "            break\n",
    "    # Or automatically break this whole loop if the video is over.  \n",
    "    else:\n",
    "        break\n",
    "\n",
    "cap.release()\n",
    "# Closes all the frames\n",
    "cv2.destroyAllWindows()"
   ]
  },
  {
   "cell_type": "markdown",
   "metadata": {},
   "source": [
    "### Drawing on Video"
   ]
  },
  {
   "cell_type": "markdown",
   "metadata": {},
   "source": [
    "Often as we analyze video using techniques like object detection or facial recognition, we'll want to draw an image on the video, like a box around a face.\n",
    "\n",
    "Let's learn the basics of drawing on video with OpenCV!"
   ]
  },
  {
   "cell_type": "code",
   "execution_count": 7,
   "metadata": {},
   "outputs": [],
   "source": [
    "import cv2\n",
    "\n",
    "cap = cv2.VideoCapture(0)\n",
    "\n",
    "\n",
    "# Automatically grab width and height from video feed\n",
    "# (returns float which we need to convert to integer for later on!)\n",
    "width = int(cap.get(cv2.CAP_PROP_FRAME_WIDTH))\n",
    "height = int(cap.get(cv2.CAP_PROP_FRAME_HEIGHT))\n",
    "\n",
    "# We're using // here because in Python // allows for int classical division, \n",
    "# because we can't pass a float to the cv2.rectangle function\n",
    "\n",
    "# Coordinates for Rectangle\n",
    "x = width//2\n",
    "y = height//2\n",
    "\n",
    "# Width and height\n",
    "w = width//4\n",
    "h = height//4\n",
    "\n",
    "while True:\n",
    "    # Capture frame-by-frame\n",
    "    ret, frame = cap.read()\n",
    "\n",
    "    # Draw a rectangle on stream\n",
    "    \n",
    "    cv2.rectangle(frame, (x, y), (x+w, y+h), color=(0,0,255),thickness= 4)\n",
    "\n",
    "    # Display the resulting frame\n",
    "    cv2.imshow('frame', frame)\n",
    "\n",
    "   # This command let's us quit with the \"q\" button on a keyboard.\n",
    "    # Simply pressing X on the window won't work!\n",
    "    if cv2.waitKey(1) & 0xFF == ord('q'):\n",
    "        break\n",
    "\n",
    "# When everything is done, release the capture\n",
    "cap.release()\n",
    "cv2.destroyAllWindows()"
   ]
  },
  {
   "cell_type": "markdown",
   "metadata": {},
   "source": [
    "### Interactive Drawing on Video"
   ]
  },
  {
   "cell_type": "code",
   "execution_count": 8,
   "metadata": {},
   "outputs": [],
   "source": [
    "import cv2\n",
    "# Create a function based on a CV2 Event (Left button click)\n",
    "\n",
    "# mouse callback function\n",
    "def draw_rectangle(event,x,y,flags,param):\n",
    "\n",
    "    global pt1,pt2,topLeft_clicked,botRight_clicked\n",
    "\n",
    "    # get mouse click\n",
    "    if event == cv2.EVENT_LBUTTONDOWN:\n",
    "        \n",
    "        # if both left and right true, reset\n",
    "        if topLeft_clicked == True and botRight_clicked == True:\n",
    "            topLeft_clicked = False\n",
    "            botRight_clicked = False\n",
    "            pt1 = (0,0)\n",
    "            pt2 = (0,0)\n",
    "\n",
    "        if topLeft_clicked == False:\n",
    "            pt1 = (x,y)\n",
    "            topLeft_clicked = True\n",
    "            \n",
    "        elif botRight_clicked == False:\n",
    "            pt2 = (x,y)\n",
    "            botRight_clicked = True\n",
    "\n",
    "        \n",
    "# Haven't drawn anything yet!\n",
    "\n",
    "pt1 = (0,0)\n",
    "pt2 = (0,0)\n",
    "topLeft_clicked = False\n",
    "botRight_clicked = False\n",
    "\n",
    "cap = cv2.VideoCapture(0) \n",
    "\n",
    "# Create a named window for connections\n",
    "cv2.namedWindow('Test')\n",
    "\n",
    "# Bind draw_rectangle function to mouse cliks\n",
    "cv2.setMouseCallback('Test', draw_rectangle) \n",
    "\n",
    "\n",
    "while True:\n",
    "    # Capture frame-by-frame\n",
    "    ret, frame = cap.read()\n",
    "\n",
    "    if topLeft_clicked:\n",
    "        cv2.circle(frame, center=pt1, radius=5, color=(0,0,255), thickness=-1)\n",
    "        \n",
    "    #drawing rectangle\n",
    "    if topLeft_clicked and botRight_clicked:\n",
    "        cv2.rectangle(frame, pt1, pt2, (0, 0, 255), 2)\n",
    "        \n",
    "        \n",
    "    # Display the resulting frame\n",
    "    cv2.imshow('Test', frame)\n",
    "\n",
    "    # This command let's us quit with the \"q\" button on a keyboard.\n",
    "    # Simply pressing X on the window won't work!\n",
    "    if cv2.waitKey(1) & 0xFF == ord('q'):\n",
    "        break\n",
    "\n",
    "# When everything is done, release the capture\n",
    "cap.release()\n",
    "cv2.destroyAllWindows()"
   ]
  }
 ],
 "metadata": {
  "kernelspec": {
   "display_name": "Python 3",
   "language": "python",
   "name": "python3"
  },
  "language_info": {
   "codemirror_mode": {
    "name": "ipython",
    "version": 3
   },
   "file_extension": ".py",
   "mimetype": "text/x-python",
   "name": "python",
   "nbconvert_exporter": "python",
   "pygments_lexer": "ipython3",
   "version": "3.6.6"
  }
 },
 "nbformat": 4,
 "nbformat_minor": 2
}
